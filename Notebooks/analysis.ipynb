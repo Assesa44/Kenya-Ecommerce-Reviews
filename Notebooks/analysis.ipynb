{
 "cells": [
  {
   "cell_type": "markdown",
   "id": "8521eba6",
   "metadata": {},
   "source": [
    "# **Reviews vs Reality.**\n",
    "\n",
    "## **Business Understanding.**\n",
    "### Background.\n",
    "E-commerce is slowly but steadily climbing the ladder to be one of Kenya's economic backbones. With businesses shifting from the traditional trade, that included setting up shops and waiting for customers to walk around looking for what they need, to digital trade where all one needs to do is open an account on any social media platform, post whatever they're selling and just wait for notifications that someone needs their product. No need for physical shop, no pressure, just internet connection and the comfort of their homes.\n",
    "\n",
    "However, such a strong growth in such an industry, comes with really stiff competition. Every seller wants to be the best, to sell the most and earn the most which in result pushes sellers to the extremes of buying fake reviews.\n",
    "\n",
    "### Project Overview.\n",
    "In Kenya, entreprenuers, both young and old are turning to platforms like Jumia, Killimall, Jiji, PigiaMe among others to sell products and make ends meet. It's not only a business, but a survival.\n",
    "\n",
    "The rise of fake reviews, however, threatens the honest business persons. There have been not only reports but also companies have come up and stated openly that they do, in fact, sell online reviews. This practice not only creates an unfair playing field for vendors because the vendors buying reviews are often better funded than the ones that do not but also denies the struggling vendors a way to earn a living.\n",
    "\n",
    "As a result of fake reviews, good products go unseen as the algorithms normally show products with high ratings so genuine sellers who actually rely on real customer feedback get burried in search results. Also, honest sellers lose customers as with a low number of reviews, their products are percieved as lower quality.\n",
    "\n",
    "Online platforsm need a way to detect mismatches between reviews and ratings. to surface truly trustworthy sellers and protect buyers and sellers alike. This project seeks to help them both understand if the reviews are true or false.\n",
    "\n",
    "### "
   ]
  },
  {
   "cell_type": "markdown",
   "id": "7a0ad039",
   "metadata": {},
   "source": []
  }
 ],
 "metadata": {
  "language_info": {
   "name": "python"
  }
 },
 "nbformat": 4,
 "nbformat_minor": 5
}
