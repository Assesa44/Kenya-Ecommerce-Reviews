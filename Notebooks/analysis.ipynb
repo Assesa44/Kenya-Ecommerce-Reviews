{
 "cells": [
  {
   "cell_type": "markdown",
   "id": "8521eba6",
   "metadata": {},
   "source": [
    "# **Reviews vs Reality.**\n",
    "\n",
    "## **Business Understanding.**\n",
    "### Background.\n",
    "E-commerce is slowly but steadily climbing the ladder to be one of Kenya's economic backbones. With businesses shifting from the traditional trade, that included setting up shops and waiting for customers to walk around looking for what they need, to digital trade where all one needs to do is open an account on any social media platform, post whatever they're selling and just wait for notifications that someone needs their product. No need for physical shop, no pressure, just internet connection and the comfort of their homes.\n",
    "\n",
    "However, such a strong growth in such an industry, comes with really stiff competition. Every seller wants to be the best, to sell the most and earn the most which in result pushes sellers to the extremes of buying fake reviews.\n",
    "\n",
    "### Ptoblem Statement.\n",
    "In Kenya, entreprenuers, both young and old are turning to platforms like Jumia, Killimall, Jiji, PigiaMe among others to sell products and make ends meet. It's not only a business, but a survival.\n",
    "\n",
    "The rise of fake reviews, however, threatens the honest business persons. There have been not only reports but also companies have come up and stated openly that they do, in fact, sell online reviews. This practice not only creates an unfair playing field for vendors because the vendors buying reviews are often better funded than the ones that do not but also denies the struggling vendors a way to earn a living.\n",
    "\n",
    "As a result of fake reviews;\n",
    "- Good products go unseen as the algorithms normally show products with high ratings so genuine sellers who actually rely on real customer feedback get burried in search results. \n",
    "\n",
    "- Honest sellers lose customers as with a low number of reviews, their products are percieved as lower quality.\n",
    "\n",
    "Online platforms need a way to detect mismatches between reviews and ratings, to surface truly trustworthy sellers and protect buyers and sellers alike. This project seeks to help them both understand if the reviews are true or false.\n",
    "\n",
    "### Project Objectives.\n",
    "This project is looking to;\n",
    "- Use Natural Language Processing and sentiment analysis to spot suspicious products whose ratings do not match what people are really saying.\n",
    "\n",
    "### Success criteria\n",
    "When fake visisbility wins over genuine value, everyone is affected. What would spell success for this project would be that;\n",
    "\n",
    "- Sellers get equal visibility based on real customer feedback.\n",
    "\n",
    "- Customers get protected against cons\n",
    "\n",
    "- Companies get to protect their customers from falling victims of fake reviews \n",
    "\n",
    "### Stakeholders.\n",
    "- Customers: The individuals or businesses purchasing goods or services through the platform.\n",
    "\n",
    "- Sellers/Merchants: Businesses or individuals who list and sell products or services on the platform. \n",
    "\n",
    "- Platform Providers: The company or organization that owns and operates the online commerce platform.\n",
    "\n",
    "- Regulatory Bodies: Government agencies and other organizations that set rules and standards for online commerce, including consumer protection.\n",
    "\n",
    "- Investors: Individuals or organizations that have provided funding for the platform. \n",
    "\n",
    "- "
   ]
  },
  {
   "cell_type": "markdown",
   "id": "7a0ad039",
   "metadata": {},
   "source": [
    "## **Data Understanding.**"
   ]
  }
 ],
 "metadata": {
  "language_info": {
   "name": "python"
  }
 },
 "nbformat": 4,
 "nbformat_minor": 5
}
