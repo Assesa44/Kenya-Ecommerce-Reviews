{
 "cells": [
  {
   "cell_type": "markdown",
   "id": "8521eba6",
   "metadata": {},
   "source": [
    "# **Reviews vs Reality.**\n",
    "\n",
    "## **Business Understanding.**\n",
    "### Background.\n",
    "E-commerce is slowly but steadily climbing the ladder to be one of Kenya's economic backbones. With businesses shifting from the traditional trade, that included setting up shops and waiting for customers to walk around looking for what they need, to digital trade where all one needs to do is open an account on any social media platform, post whatever they're selling and just wait for notifications that someone needs their product. No need for physical shop, no pressure, just internet connection and the comfort of their homes.\n",
    "\n",
    "However, such a strong growth in such an industry, comes with really stiff competition. Every seller wants to be the best, to sell the most and earn the most which in result pushes sellers to the extremes of buying fake reviews.\n",
    "\n",
    "### Problem Statement.\n",
    "In Kenya, entreprenuers, both young and old are turning to platforms like Jumia, Killimall, Jiji, PigiaMe among others to sell products and make ends meet. It's not only a business, but a survival.\n",
    "\n",
    "The rise of fake reviews, however, threatens the honest business persons. There have been not only reports but also companies have come up and stated openly that they do, in fact, sell online reviews. This practice not only creates an unfair playing field for vendors because the vendors buying reviews are often better funded than the ones that do not but also denies the struggling vendors a way to earn a living.\n",
    "\n",
    "As a result of fake reviews;\n",
    "- Good products go unseen as the algorithms normally show products with high ratings so genuine sellers who actually rely on real customer feedback get burried in search results. \n",
    "\n",
    "- Honest sellers lose customers as with a low number of reviews, their products are percieved as lower quality.\n",
    "\n",
    "Online platforms need a way to detect mismatches between reviews and ratings, to surface truly trustworthy sellers and protect buyers and sellers alike. This project seeks to help them both understand if the reviews are true or false.\n",
    "\n",
    "### Project Objectives.\n",
    "This project is looking to;\n",
    "- Use Natural Language Processing and sentiment analysis to spot suspicious products whose ratings do not match what people are really saying.\n",
    "\n",
    "### Success criteria.\n",
    "When fake visisbility wins over genuine value, everyone is affected. What would spell success for this project would be that;\n",
    "\n",
    "- Sellers get equal visibility based on real customer feedback.\n",
    "\n",
    "- Customers get protected against cons\n",
    "\n",
    "- Companies get to protect their customers from falling victims of fake reviews \n",
    "\n",
    "### Stakeholders.\n",
    "- Customers: The individuals or businesses purchasing goods or services through the platform.\n",
    "\n",
    "- Sellers/Merchants: Businesses or individuals who list and sell products or services on the platform. \n",
    "\n",
    "- Platform Providers: The company or organization that owns and operates the online commerce platform.\n",
    "\n",
    "- Regulatory Bodies: Government agencies and other organizations that set rules and standards for online commerce, including consumer protection.\n",
    "\n",
    "- Investors: Individuals or organizations that have provided funding for the platform. \n",
    "\n",
    "- Government and International Organizations: These entities are stakeholders due to their role in setting and enforcing regulations related to online commerce. \n",
    "\n",
    "### Project plan."
   ]
  },
  {
   "cell_type": "markdown",
   "id": "7a0ad039",
   "metadata": {},
   "source": [
    "## **Data Understanding.**\n",
    "### Data Source.\n",
    "The data used in this project was collected from publicly accessible product pages on `Jumia Kenya` using web scraping techniques. Reviews were gathered from selected products in three categories: fashion, appliances, and other electronics.\n",
    "\n",
    "The scraping was performed using Python libraries such as requests and BeautifulSoup as evident in the `Scraper` folder, and all information collected is visible to any user visiting the site. No login or bypassing of protections was required.\n",
    "\n",
    "This data was collected strictly for educational and research purposes, with the intent of exploring the relationship between product star ratings and actual customer sentiment. It is not affiliated with, endorsed by, or intended to defame Jumia or any of its sellers. It simply aims to uncover insights from publicly available information and promote transparency in digital marketplaces.\n",
    "\n",
    "The dataset is under the file path `Data/`.\n",
    "\n",
    "### Why is the data suitable for this project?\n",
    "Jumia Kenya is one of the most popular e-commerce platforms in Kenya, data from the platform not only provides a larger pool of sellers but also a richer variety of reviews which allows for a more comprehensive understanding of consumer behavior.\n",
    "\n",
    "- The largest e-commerce companies have millions or even billions of transactions, providing a vast dataset to analyze. This allows for more robust statistical analysis and reduces the chance of drawing inaccurate conclusions based on limited data.\n",
    "\n",
    "- Large companies also serve a diverse customer base, including demographics, geographic locations, and purchasing habits. This diverse data helps in identifying patterns that might be missed in smaller datasets focused on specific niches.\n",
    "\n",
    "### Exploring the dataset for understanding.\n",
    "In this section we will be carrying out both qualitative and quantitative analysis to understand the structure of the dataset as well as identify areas that would impact our analysis if left unchecked or simply not fixed.\n",
    "\n",
    "#### Import dependencies and loading the dataset.\n",
    "In this section we will be importing our dependencies that we will be using all through the project for our data cleaning, exploratory data analysis, NPL etc. We will also be loading the scraped dataset.\n",
    "\n",
    "We are loading the dataset using pandas .read_csv() method.\n"
   ]
  },
  {
   "cell_type": "code",
   "execution_count": 1,
   "id": "67bcaff9",
   "metadata": {},
   "outputs": [],
   "source": [
    "# Import dependencies.\n",
    "import pandas as pd\n",
    "import sqlite3\n",
    "import seaborn as sns\n",
    "import matplotlib.pyplot as plt\n",
    "from textblob import TextBlob\n",
    "from collections import Counter\n",
    "import re\n",
    "\n",
    "# Load the dataset.\n",
    "reviews = pd.read_csv('../Data/Raw/jumia_reviews.csv')"
   ]
  },
  {
   "cell_type": "markdown",
   "id": "37f2c012",
   "metadata": {},
   "source": [
    "#### Qualitative Analysis.\n",
    "Before our analysis, we will explore our data, to understand its structure and what it contains. We will also be looking at the contenet and making sure it is in good quality for analysis.\n",
    "\n",
    "We will use the .head() method to access the first 5 rows of the data. This will help us understand what columns we have and what type of values they contain."
   ]
  },
  {
   "cell_type": "code",
   "execution_count": 2,
   "id": "d10cc3f4",
   "metadata": {},
   "outputs": [
    {
     "data": {
      "text/html": [
       "<div>\n",
       "<style scoped>\n",
       "    .dataframe tbody tr th:only-of-type {\n",
       "        vertical-align: middle;\n",
       "    }\n",
       "\n",
       "    .dataframe tbody tr th {\n",
       "        vertical-align: top;\n",
       "    }\n",
       "\n",
       "    .dataframe thead th {\n",
       "        text-align: right;\n",
       "    }\n",
       "</style>\n",
       "<table border=\"1\" class=\"dataframe\">\n",
       "  <thead>\n",
       "    <tr style=\"text-align: right;\">\n",
       "      <th></th>\n",
       "      <th>product_name</th>\n",
       "      <th>category</th>\n",
       "      <th>review_title</th>\n",
       "      <th>review_text</th>\n",
       "      <th>rating</th>\n",
       "      <th>review_date</th>\n",
       "      <th>verified</th>\n",
       "    </tr>\n",
       "  </thead>\n",
       "  <tbody>\n",
       "    <tr>\n",
       "      <th>0</th>\n",
       "      <td>Berrykey Hawaiian Shirt</td>\n",
       "      <td>fashion</td>\n",
       "      <td>big size not cotton</td>\n",
       "      <td>Not cotton</td>\n",
       "      <td>1</td>\n",
       "      <td>19-06-2025</td>\n",
       "      <td>Verified Purchase</td>\n",
       "    </tr>\n",
       "    <tr>\n",
       "      <th>1</th>\n",
       "      <td>Berrykey Hawaiian Shirt</td>\n",
       "      <td>fashion</td>\n",
       "      <td>Not satisfied</td>\n",
       "      <td>The material is bad.not what I expected</td>\n",
       "      <td>1</td>\n",
       "      <td>13-06-2025</td>\n",
       "      <td>Verified Purchase</td>\n",
       "    </tr>\n",
       "    <tr>\n",
       "      <th>2</th>\n",
       "      <td>Berrykey Hawaiian Shirt</td>\n",
       "      <td>fashion</td>\n",
       "      <td>I like it</td>\n",
       "      <td>It is okay</td>\n",
       "      <td>5</td>\n",
       "      <td>12-05-2025</td>\n",
       "      <td>Verified Purchase</td>\n",
       "    </tr>\n",
       "    <tr>\n",
       "      <th>3</th>\n",
       "      <td>Berrykey Hawaiian Shirt</td>\n",
       "      <td>fashion</td>\n",
       "      <td>I like it</td>\n",
       "      <td>The quality is good. It's worth the price</td>\n",
       "      <td>5</td>\n",
       "      <td>22-04-2025</td>\n",
       "      <td>Verified Purchase</td>\n",
       "    </tr>\n",
       "    <tr>\n",
       "      <th>4</th>\n",
       "      <td>Berrykey Hawaiian Shirt</td>\n",
       "      <td>fashion</td>\n",
       "      <td>good</td>\n",
       "      <td>Good</td>\n",
       "      <td>5</td>\n",
       "      <td>27-01-2025</td>\n",
       "      <td>Verified Purchase</td>\n",
       "    </tr>\n",
       "  </tbody>\n",
       "</table>\n",
       "</div>"
      ],
      "text/plain": [
       "              product_name category         review_title  \\\n",
       "0  Berrykey Hawaiian Shirt  fashion  big size not cotton   \n",
       "1  Berrykey Hawaiian Shirt  fashion        Not satisfied   \n",
       "2  Berrykey Hawaiian Shirt  fashion            I like it   \n",
       "3  Berrykey Hawaiian Shirt  fashion            I like it   \n",
       "4  Berrykey Hawaiian Shirt  fashion                 good   \n",
       "\n",
       "                                 review_text  rating review_date  \\\n",
       "0                                 Not cotton       1  19-06-2025   \n",
       "1    The material is bad.not what I expected       1  13-06-2025   \n",
       "2                                 It is okay       5  12-05-2025   \n",
       "3  The quality is good. It's worth the price       5  22-04-2025   \n",
       "4                                       Good       5  27-01-2025   \n",
       "\n",
       "            verified  \n",
       "0  Verified Purchase  \n",
       "1  Verified Purchase  \n",
       "2  Verified Purchase  \n",
       "3  Verified Purchase  \n",
       "4  Verified Purchase  "
      ]
     },
     "execution_count": 2,
     "metadata": {},
     "output_type": "execute_result"
    }
   ],
   "source": [
    "# Dataset preview.\n",
    "reviews.head()"
   ]
  },
  {
   "cell_type": "markdown",
   "id": "5c88d508",
   "metadata": {},
   "source": [
    "From the output above, the data has 7 columns and it contains review data of products. To further explore the dataset's structure, we will use pandas .info() method. This method will give us the concise summary of our data, providing us with infomation on the number of rows and columns, number of non-null values, and the columns' datatype. "
   ]
  },
  {
   "cell_type": "code",
   "execution_count": 3,
   "id": "0ec62fb0",
   "metadata": {},
   "outputs": [
    {
     "name": "stdout",
     "output_type": "stream",
     "text": [
      "<class 'pandas.core.frame.DataFrame'>\n",
      "RangeIndex: 362 entries, 0 to 361\n",
      "Data columns (total 7 columns):\n",
      " #   Column        Non-Null Count  Dtype \n",
      "---  ------        --------------  ----- \n",
      " 0   product_name  362 non-null    object\n",
      " 1   category      362 non-null    object\n",
      " 2   review_title  362 non-null    object\n",
      " 3   review_text   362 non-null    object\n",
      " 4   rating        362 non-null    int64 \n",
      " 5   review_date   362 non-null    object\n",
      " 6   verified      362 non-null    object\n",
      "dtypes: int64(1), object(6)\n",
      "memory usage: 19.9+ KB\n"
     ]
    }
   ],
   "source": [
    "# Get dataset's qualitative summary\n",
    "reviews.info()"
   ]
  },
  {
   "cell_type": "markdown",
   "id": "3eefd175",
   "metadata": {},
   "source": [
    "The dataset contains data stored in 362 rows in columns named product_name, category, review_title, review_text, rating, review_date and verified. Out of the 7 columns, only 1 is stored as an integer and the rest are stored as objects. Additionally, the data seems to have no null values.\n",
    "\n",
    "Next we are ensuring the data has no null values and also looking if our data has duplicate records. We are using pandas .isnull() and .duplicated() methods. This is a crucial step as duplicates or null values impact the quality, accuracy, and reliability of your data, and lead to inaccurate results in your analysis."
   ]
  },
  {
   "cell_type": "code",
   "execution_count": 4,
   "id": "a0f3e7c5",
   "metadata": {},
   "outputs": [
    {
     "data": {
      "text/plain": [
       "product_name    0\n",
       "category        0\n",
       "review_title    0\n",
       "review_text     0\n",
       "rating          0\n",
       "review_date     0\n",
       "verified        0\n",
       "dtype: int64"
      ]
     },
     "execution_count": 4,
     "metadata": {},
     "output_type": "execute_result"
    }
   ],
   "source": [
    "# Check for null values\n",
    "reviews.isnull().sum()"
   ]
  },
  {
   "cell_type": "code",
   "execution_count": 5,
   "id": "19c32b73",
   "metadata": {},
   "outputs": [
    {
     "name": "stdout",
     "output_type": "stream",
     "text": [
      "The reviews dataset contains 1 duplicated record.\n"
     ]
    }
   ],
   "source": [
    "# Check for duplicated records.\n",
    "print(f'The reviews dataset contains {reviews.duplicated().sum()} duplicated record.')"
   ]
  },
  {
   "cell_type": "markdown",
   "id": "259372b6",
   "metadata": {},
   "source": [
    "The datast contains no null values but has 1 duplicated record.\n",
    "\n",
    "#### Quantitative Analysis.\n",
    "Here we will be getting the dataset's qualitative summary using the .describe() method. This method generates descriptive statistics, giving summarized statistical description of your data's measures of central tendecy, mean, mode, median, and percentiles as well as measures of spread, standard deviation."
   ]
  },
  {
   "cell_type": "code",
   "execution_count": 6,
   "id": "36e99321",
   "metadata": {},
   "outputs": [
    {
     "data": {
      "text/html": [
       "<div>\n",
       "<style scoped>\n",
       "    .dataframe tbody tr th:only-of-type {\n",
       "        vertical-align: middle;\n",
       "    }\n",
       "\n",
       "    .dataframe tbody tr th {\n",
       "        vertical-align: top;\n",
       "    }\n",
       "\n",
       "    .dataframe thead th {\n",
       "        text-align: right;\n",
       "    }\n",
       "</style>\n",
       "<table border=\"1\" class=\"dataframe\">\n",
       "  <thead>\n",
       "    <tr style=\"text-align: right;\">\n",
       "      <th></th>\n",
       "      <th>rating</th>\n",
       "    </tr>\n",
       "  </thead>\n",
       "  <tbody>\n",
       "    <tr>\n",
       "      <th>count</th>\n",
       "      <td>362.000000</td>\n",
       "    </tr>\n",
       "    <tr>\n",
       "      <th>mean</th>\n",
       "      <td>4.204420</td>\n",
       "    </tr>\n",
       "    <tr>\n",
       "      <th>std</th>\n",
       "      <td>1.205795</td>\n",
       "    </tr>\n",
       "    <tr>\n",
       "      <th>min</th>\n",
       "      <td>1.000000</td>\n",
       "    </tr>\n",
       "    <tr>\n",
       "      <th>25%</th>\n",
       "      <td>4.000000</td>\n",
       "    </tr>\n",
       "    <tr>\n",
       "      <th>50%</th>\n",
       "      <td>5.000000</td>\n",
       "    </tr>\n",
       "    <tr>\n",
       "      <th>75%</th>\n",
       "      <td>5.000000</td>\n",
       "    </tr>\n",
       "    <tr>\n",
       "      <th>max</th>\n",
       "      <td>5.000000</td>\n",
       "    </tr>\n",
       "  </tbody>\n",
       "</table>\n",
       "</div>"
      ],
      "text/plain": [
       "           rating\n",
       "count  362.000000\n",
       "mean     4.204420\n",
       "std      1.205795\n",
       "min      1.000000\n",
       "25%      4.000000\n",
       "50%      5.000000\n",
       "75%      5.000000\n",
       "max      5.000000"
      ]
     },
     "execution_count": 6,
     "metadata": {},
     "output_type": "execute_result"
    }
   ],
   "source": [
    "# Get dataset's statistical summary.\n",
    "reviews.describe()"
   ]
  },
  {
   "cell_type": "markdown",
   "id": "e278caf7",
   "metadata": {},
   "source": [
    "A lot of ratings in the dataset are positive, the mean of the ratings is 4.20 and the 25th percentile is 4.0.\n",
    "\n",
    "#### Data Quality Issues.\n",
    "Data quality issues, are characterized by inaccuracies, incompleteness, and inconsistencies, these issues, if left unchecked/unsolved, can severely impact our analysis by leading to flawed analysis, poor decision-making, among other problems.\n",
    "\n",
    "Our data understanding section has helped us identfy some of the issues in the dataset including;\n",
    "- Inaccuracies - most of the columns in the dataset are stored as objects when they dates.\n",
    "\n",
    "- Duplicates - we found one duplicated record in the dataset.\n",
    "\n",
    "Addressing these problems is crucial for maintaining data integrity and ensuring reliable results across all business operations. In the next section, we will be cleaning the data and preparing it for analysis."
   ]
  },
  {
   "cell_type": "markdown",
   "id": "64851198",
   "metadata": {},
   "source": [
    "## **Data Preparation.**\n",
    "In the previous section, we identified some quality issues in our dataset. In this section, we will be dealing wit the quality issues by cleaning the data and ensuring it is reliable for the next section.\n",
    "\n",
    "Here we will be preparing our data for analysis, this process will include:\n",
    "- Dropping duplicate records.\n",
    "\n",
    "- Reformatting some columns.\n",
    "\n",
    "- Column engineering.\n",
    "\n",
    "- Standardization.\n",
    "\n",
    "- Dropping short reviews.\n",
    "\n",
    "In the first part, we will be dropping the duplicate record we identified in the `Data Understanding` section using the .drop_duplicates() method. As mentioned earlier, this is an important step as duplicates could lead to unreliable or skewed analysis."
   ]
  },
  {
   "cell_type": "code",
   "execution_count": 7,
   "id": "38fcf498",
   "metadata": {},
   "outputs": [
    {
     "name": "stdout",
     "output_type": "stream",
     "text": [
      "The reviews dataset contains 0 duplicated record.\n"
     ]
    }
   ],
   "source": [
    "# Drop duplicate records.\n",
    "reviews.drop_duplicates(inplace= True)\n",
    "\n",
    "# Verify duplicate records are dropped.\n",
    "print(f'The reviews dataset contains {reviews.duplicated().sum()} duplicated record.')"
   ]
  },
  {
   "cell_type": "markdown",
   "id": "2708f954",
   "metadata": {},
   "source": [
    "Next we wil be converting the `rating` and `review_date` columns from integer and object to float and datetime respectively. We will use the .astype() and .to_datetime() methods for the columns respectively. Storing data in the correct data type is crucial for accuracy, efficiency, and proper functionality. \n",
    "\n",
    "Here, we convert `rating` to float so we can compute averages and convert `review_date` to datetime to enable sorting and analyzing reviews over time."
   ]
  },
  {
   "cell_type": "code",
   "execution_count": 8,
   "id": "0c5c58f3",
   "metadata": {},
   "outputs": [
    {
     "name": "stdout",
     "output_type": "stream",
     "text": [
      "<class 'pandas.core.frame.DataFrame'>\n",
      "Int64Index: 361 entries, 0 to 361\n",
      "Data columns (total 7 columns):\n",
      " #   Column        Non-Null Count  Dtype         \n",
      "---  ------        --------------  -----         \n",
      " 0   product_name  361 non-null    object        \n",
      " 1   category      361 non-null    object        \n",
      " 2   review_title  361 non-null    object        \n",
      " 3   review_text   361 non-null    object        \n",
      " 4   rating        361 non-null    float64       \n",
      " 5   review_date   361 non-null    datetime64[ns]\n",
      " 6   verified      361 non-null    object        \n",
      "dtypes: datetime64[ns](1), float64(1), object(5)\n",
      "memory usage: 22.6+ KB\n"
     ]
    }
   ],
   "source": [
    "# Convert `review_date` to a datetime datatype.\n",
    "reviews['review_date'] = pd.to_datetime(reviews['review_date'], errors= 'coerce', dayfirst= True)\n",
    "\n",
    "# Convert rating to float\n",
    "reviews['rating'] = reviews['rating'].astype(str).str.extract(r'(\\d+\\.?\\d*)').astype(float)\n",
    "\n",
    "# Verify columns have been converted.\n",
    "reviews.info()"
   ]
  },
  {
   "cell_type": "markdown",
   "id": "452cd4e3",
   "metadata": {},
   "source": [
    "In the next code we are mapping the `verified` columns and changing the values to either 'yes' or 'no'. This is so as to keep the values short and clear as well as understandable. We are using the .map() method to apply a fuction to each element and the lambda function to iterate over each element. "
   ]
  },
  {
   "cell_type": "code",
   "execution_count": 9,
   "id": "9bdb0ec9",
   "metadata": {},
   "outputs": [
    {
     "data": {
      "text/plain": [
       "0    yes\n",
       "1    yes\n",
       "2    yes\n",
       "3    yes\n",
       "4    yes\n",
       "Name: verified, dtype: object"
      ]
     },
     "execution_count": 9,
     "metadata": {},
     "output_type": "execute_result"
    }
   ],
   "source": [
    "# Change the `verified` column values to either yes or no.\n",
    "reviews['verified'] = reviews['verified'].map(lambda x: 'yes' if x == 'Verified Purchase' else 'no')\n",
    "\n",
    "# Verify change.\n",
    "reviews['verified'].head()"
   ]
  },
  {
   "cell_type": "markdown",
   "id": "4f8386c8",
   "metadata": {},
   "source": [
    "Here we are changing the `review_title` and `review_text` to lowercase so as to have consistent data for text analysis. In sentiment analysis, Great and great are considered different. Turning these columns to lowercase will make the analysis accurate."
   ]
  },
  {
   "cell_type": "code",
   "execution_count": 22,
   "id": "a5eb3207",
   "metadata": {},
   "outputs": [],
   "source": [
    "# Change everything to lowercase\n",
    "reviews['review_text'] = reviews['review_text'].str.lower()\n",
    "reviews['review_title'] = reviews['review_title'].str.lower()\n",
    "reviews['category'] = reviews['category'].str.lower().replace('tvs and audio', 'tvs and audios')"
   ]
  },
  {
   "cell_type": "markdown",
   "id": "b1b605df",
   "metadata": {},
   "source": [
    "Next we are dropping reviews with less than 10 characters, this is to remove records with low information value. Words with less than 10 characters do not give us enough context for sentiment analysis, keyword exraction etc. Using the greater than (>) comparison operator, we will filter the data and drop the ones tat do not meet the condition."
   ]
  },
  {
   "cell_type": "code",
   "execution_count": 11,
   "id": "2abe6867",
   "metadata": {},
   "outputs": [
    {
     "name": "stdout",
     "output_type": "stream",
     "text": [
      "<class 'pandas.core.frame.DataFrame'>\n",
      "Int64Index: 310 entries, 1 to 361\n",
      "Data columns (total 7 columns):\n",
      " #   Column        Non-Null Count  Dtype         \n",
      "---  ------        --------------  -----         \n",
      " 0   product_name  310 non-null    object        \n",
      " 1   category      310 non-null    object        \n",
      " 2   review_title  310 non-null    object        \n",
      " 3   review_text   310 non-null    object        \n",
      " 4   rating        310 non-null    float64       \n",
      " 5   review_date   310 non-null    datetime64[ns]\n",
      " 6   verified      310 non-null    object        \n",
      "dtypes: datetime64[ns](1), float64(1), object(5)\n",
      "memory usage: 19.4+ KB\n"
     ]
    }
   ],
   "source": [
    "# Drop short reviews. (less than 10 characters)\n",
    "reviews = reviews[reviews['review_text'].str.len() > 10]\n",
    "\n",
    "# Verify that they are dropped.\n",
    "reviews.info()"
   ]
  },
  {
   "cell_type": "markdown",
   "id": "359c7ea1",
   "metadata": {},
   "source": [
    "Having dropped some records, the indexing is a mess, we are resetting the index and saving the cleaned data in a new file and keeping it in a `CleanedData` folder."
   ]
  },
  {
   "cell_type": "code",
   "execution_count": 12,
   "id": "f76cea7a",
   "metadata": {},
   "outputs": [],
   "source": [
    "# Reset the dataset's index.\n",
    "reviews.reset_index(drop=True, inplace= True)"
   ]
  },
  {
   "cell_type": "code",
   "execution_count": 13,
   "id": "6419654f",
   "metadata": {},
   "outputs": [],
   "source": [
    "# Save cleaned dataset in a new file.\n",
    "reviews.to_csv('../Data/CleanedData/cleaned_jumia_reviews.csv', index= False)"
   ]
  },
  {
   "cell_type": "code",
   "execution_count": 23,
   "id": "70df1b55",
   "metadata": {},
   "outputs": [
    {
     "data": {
      "text/html": [
       "<div>\n",
       "<style scoped>\n",
       "    .dataframe tbody tr th:only-of-type {\n",
       "        vertical-align: middle;\n",
       "    }\n",
       "\n",
       "    .dataframe tbody tr th {\n",
       "        vertical-align: top;\n",
       "    }\n",
       "\n",
       "    .dataframe thead th {\n",
       "        text-align: right;\n",
       "    }\n",
       "</style>\n",
       "<table border=\"1\" class=\"dataframe\">\n",
       "  <thead>\n",
       "    <tr style=\"text-align: right;\">\n",
       "      <th></th>\n",
       "      <th>product_name</th>\n",
       "      <th>category</th>\n",
       "      <th>review_title</th>\n",
       "      <th>review_text</th>\n",
       "      <th>rating</th>\n",
       "      <th>review_date</th>\n",
       "      <th>verified</th>\n",
       "      <th>review_length</th>\n",
       "    </tr>\n",
       "  </thead>\n",
       "  <tbody>\n",
       "    <tr>\n",
       "      <th>0</th>\n",
       "      <td>Berrykey Hawaiian Shirt</td>\n",
       "      <td>fashion</td>\n",
       "      <td>not satisfied</td>\n",
       "      <td>the material is bad.not what i expected</td>\n",
       "      <td>1.0</td>\n",
       "      <td>2025-06-13</td>\n",
       "      <td>yes</td>\n",
       "      <td>7</td>\n",
       "    </tr>\n",
       "    <tr>\n",
       "      <th>1</th>\n",
       "      <td>Berrykey Hawaiian Shirt</td>\n",
       "      <td>fashion</td>\n",
       "      <td>i like it</td>\n",
       "      <td>the quality is good. it's worth the price</td>\n",
       "      <td>5.0</td>\n",
       "      <td>2025-04-22</td>\n",
       "      <td>yes</td>\n",
       "      <td>8</td>\n",
       "    </tr>\n",
       "    <tr>\n",
       "      <th>2</th>\n",
       "      <td>Berrykey Hawaiian Shirt</td>\n",
       "      <td>fashion</td>\n",
       "      <td>quality of the fabric is poor</td>\n",
       "      <td>the size is extra big for the small size..then...</td>\n",
       "      <td>2.0</td>\n",
       "      <td>2024-10-03</td>\n",
       "      <td>yes</td>\n",
       "      <td>13</td>\n",
       "    </tr>\n",
       "    <tr>\n",
       "      <th>3</th>\n",
       "      <td>Berrykey Hawaiian Shirt</td>\n",
       "      <td>fashion</td>\n",
       "      <td>size ,material</td>\n",
       "      <td>nice and well prepared</td>\n",
       "      <td>5.0</td>\n",
       "      <td>2024-09-17</td>\n",
       "      <td>yes</td>\n",
       "      <td>4</td>\n",
       "    </tr>\n",
       "    <tr>\n",
       "      <th>4</th>\n",
       "      <td>Berrykey Hawaiian Shirt</td>\n",
       "      <td>fashion</td>\n",
       "      <td>shirt</td>\n",
       "      <td>good material but take a smaller size</td>\n",
       "      <td>5.0</td>\n",
       "      <td>2024-09-06</td>\n",
       "      <td>yes</td>\n",
       "      <td>7</td>\n",
       "    </tr>\n",
       "  </tbody>\n",
       "</table>\n",
       "</div>"
      ],
      "text/plain": [
       "              product_name category                   review_title  \\\n",
       "0  Berrykey Hawaiian Shirt  fashion                  not satisfied   \n",
       "1  Berrykey Hawaiian Shirt  fashion                      i like it   \n",
       "2  Berrykey Hawaiian Shirt  fashion  quality of the fabric is poor   \n",
       "3  Berrykey Hawaiian Shirt  fashion                 size ,material   \n",
       "4  Berrykey Hawaiian Shirt  fashion                          shirt   \n",
       "\n",
       "                                         review_text  rating review_date  \\\n",
       "0            the material is bad.not what i expected     1.0  2025-06-13   \n",
       "1          the quality is good. it's worth the price     5.0  2025-04-22   \n",
       "2  the size is extra big for the small size..then...     2.0  2024-10-03   \n",
       "3                             nice and well prepared     5.0  2024-09-17   \n",
       "4              good material but take a smaller size     5.0  2024-09-06   \n",
       "\n",
       "  verified  review_length  \n",
       "0      yes              7  \n",
       "1      yes              8  \n",
       "2      yes             13  \n",
       "3      yes              4  \n",
       "4      yes              7  "
      ]
     },
     "execution_count": 23,
     "metadata": {},
     "output_type": "execute_result"
    }
   ],
   "source": [
    "# Preview the cleaned data.\n",
    "reviews.head()"
   ]
  },
  {
   "cell_type": "markdown",
   "id": "468bfde3",
   "metadata": {},
   "source": [
    "## **Exploratory Data Analysis.**\n",
    "In this section we will be doing exploratory data analysis, this is crucial for our analysis later as it helps us understand te shape and pattern of our data. It also helps us uncover patterns, or biases in our data.We will be using seaborn and matplotlib python modules for visualization\n",
    "\n",
    "### Rating Distribution.\n",
    "We are trying to understand the shape of the ratings in the dataset. Earlier we saw that the mean was `4.20`, this could mean that it is biased or otherwise, visualizing it could help us understand it better."
   ]
  },
  {
   "cell_type": "code",
   "execution_count": null,
   "id": "bdd7b537",
   "metadata": {},
   "outputs": [
    {
     "data": {
      "image/png": "[encoded data removed]",
      "text/plain": [
       "<Figure size 432x288 with 1 Axes>"
      ]
     },
     "metadata": {},
     "output_type": "display_data"
    }
   ],
   "source": [
    "# set style\n",
    "plt.style.use('seaborn-darkgrid')\n",
    "\n",
    "# Plot Rating Distribution.\n",
    "plt.figure(figsize=(6,4))\n",
    "sns.histplot(reviews['rating'], bins= 5, kde= True)\n",
    "plt.title('Rating Distribution')\n",
    "plt.xlabel('Rating')\n",
    "plt.ylabel('Number of Reviews')\n",
    "plt.show()"
   ]
  },
  {
   "cell_type": "markdown",
   "id": "2a0dba58",
   "metadata": {},
   "source": [
    "The dataset contains a lot of 5 ratings, it may prove that the data is biased. However, according to [gominga's Online Review Statistics 2024](https://gominga.com/insights/online-review-statistics), 96% of dissatisfied customers won't bother to leave a bad review, which could explain why the negative reviews are in small numbers. But the same study also says that customers are 21% more likely to leave a review after a negative experience than after a positive experience.\n",
    "\n",
    "In conclusion, this may represent genuine customer satisfaction or something else.\n",
    "\n",
    "### Average rating by Category.\n",
    "The plot above shows that most products have been rated 5, here we are going to plot average ratings by categories, this will help us identify which product categories have the most positive rates."
   ]
  },
  {
   "cell_type": "code",
   "execution_count": null,
   "id": "0d5dec4f",
   "metadata": {},
   "outputs": [
    {
     "data": {
      "image/png": "[encoded data removed]",
      "text/plain": [
       "<Figure size 720x360 with 1 Axes>"
      ]
     },
     "metadata": {},
     "output_type": "display_data"
    }
   ],
   "source": [
    "# Plot Average Rating per Category.\n",
    "avg_rating = reviews.groupby('category')['rating'].mean().sort_values(ascending= False)\n",
    "plt.figure(figsize=(10,5))\n",
    "sns.barplot(x=avg_rating.values, y=avg_rating.index, palette= 'magma')\n",
    "plt.title('Categories by Average Rating')\n",
    "plt.xlabel('Average Rating')\n",
    "plt.ylabel('Product Category')\n",
    "plt.show()"
   ]
  },
  {
   "cell_type": "markdown",
   "id": "ac9319d9",
   "metadata": {},
   "source": [
    "Electronics like computing and gaming devices, tvs and audios and appliances have the most positive review ratings standing at more than 4 stars.\n",
    "\n",
    "### Average ratings per product.\n",
    "We have found that electronics have the most positive review ratings per product categories, here we will explore products with the highest ratings and figure what categories they fall in."
   ]
  },
  {
   "cell_type": "code",
   "execution_count": null,
   "id": "c3cfc1a5",
   "metadata": {},
   "outputs": [
    {
     "data": {
      "image/png": "[encoded data removed]",
      "text/plain": [
       "<Figure size 720x360 with 1 Axes>"
      ]
     },
     "metadata": {},
     "output_type": "display_data"
    }
   ],
   "source": [
    "# Plot Average Ratings per Product.\n",
    "avg_rating = reviews.groupby('product_name')['rating'].mean().sort_values(ascending=False).head(10)\n",
    "plt.figure(figsize=(10,5))\n",
    "sns.barplot(x=avg_rating.values, y=avg_rating.index, palette='magma')\n",
    "plt.title('Top 10 Products by Average Rating')\n",
    "plt.xlabel('Average Rating')\n",
    "plt.ylabel('Product Name')\n",
    "plt.show()"
   ]
  },
  {
   "cell_type": "markdown",
   "id": "f99c2060",
   "metadata": {},
   "source": [
    "Despite fashion ranking the 5th category with the highest review ratings, one of its product ranks the product with the highest review ratings. Electronics however, still dominate the products with the highest review ratings.\n",
    "\n",
    "### Reviews per product.\n",
    "Next we are looking at the top 10 products with the most reviews in the dataset."
   ]
  },
  {
   "cell_type": "code",
   "execution_count": null,
   "id": "a72b154b",
   "metadata": {},
   "outputs": [
    {
     "data": {
      "image/png": "[encoded data removed]",
      "text/plain": [
       "<Figure size 720x360 with 1 Axes>"
      ]
     },
     "metadata": {},
     "output_type": "display_data"
    }
   ],
   "source": [
    "# Plot Reviews per Product.\n",
    "plt.figure(figsize=(10,5))\n",
    "top_products = reviews['product_name'].value_counts().nlargest(10)\n",
    "sns.barplot(x=top_products.values, y=top_products.index, palette='magma')\n",
    "plt.title('Top 10 Most Reviewed Products')\n",
    "plt.xlabel('Number of Reviews')\n",
    "plt.ylabel('Product Name')\n",
    "plt.show()"
   ]
  },
  {
   "cell_type": "markdown",
   "id": "9fa81d7b",
   "metadata": {},
   "source": [
    "Most products have about 10 reviews each.\n",
    "\n",
    "### Verified vs Unverified.\n",
    "We are exploring the `verified` column to identify if there are any reviews from unverified purchasers and mostly confirm if the reviews we scraped  are from verified purchases."
   ]
  },
  {
   "cell_type": "code",
   "execution_count": null,
   "id": "789d6887",
   "metadata": {},
   "outputs": [
    {
     "data": {
      "image/png": "[encoded data removed]",
      "text/plain": [
       "<Figure size 360x216 with 1 Axes>"
      ]
     },
     "metadata": {},
     "output_type": "display_data"
    }
   ],
   "source": [
    "# Plot Verified vs Unverified.\n",
    "plt.figure(figsize=(5,3))\n",
    "sns.countplot(data=reviews, x='verified', palette='coolwarm')\n",
    "plt.title('Verified vs Unverified Reviews')\n",
    "plt.xlabel('Verified Purchase')\n",
    "plt.ylabel('Count')\n",
    "plt.show()"
   ]
  },
  {
   "cell_type": "markdown",
   "id": "758c7e35",
   "metadata": {},
   "source": [
    "All the reviews in the dataset are from verified purchases. Verified reviews, those from customers who have actually purchased a product or service, are crucial because they offer increased trust and credibility compared to unverified reviews.\n",
    "\n",
    "### Review Length.\n",
    "As we mentioned earlier, for accurate representation and context, it is essential to have a number of words, we are exploring the distribution of number of words in the `review_text` column."
   ]
  },
  {
   "cell_type": "code",
   "execution_count": null,
   "id": "2d2a312e",
   "metadata": {},
   "outputs": [
    {
     "data": {
      "image/png": "[encoded data removed]",
      "text/plain": [
       "<Figure size 432x288 with 1 Axes>"
      ]
     },
     "metadata": {},
     "output_type": "display_data"
    }
   ],
   "source": [
    "# Prepare data for plotting.\n",
    "reviews['review_length'] = reviews['review_text'].str.split().apply(len)\n",
    "\n",
    "# Plot Review Length.\n",
    "plt.figure(figsize=(6,4))\n",
    "sns.histplot(reviews['review_length'], bins=30, color='skyblue')\n",
    "plt.title('Distribution of Review Length')\n",
    "plt.xlabel('Number of Words')\n",
    "plt.ylabel('Frequency')\n",
    "plt.show()"
   ]
  },
  {
   "cell_type": "markdown",
   "id": "88d21d8d",
   "metadata": {},
   "source": [
    "Most of the number of words in the column range from 1 to around 40. We also have 1 review that has more than 90 words."
   ]
  },
  {
   "cell_type": "markdown",
   "id": "1923b38f",
   "metadata": {},
   "source": [
    "## **Analysis.**\n",
    "In this section, we are going to answer the question at hand, tring to figure out if the reviews are genuine or fake. This process will involve:\n",
    "- Preparing data for the final analysis.\n",
    "  - Sentiment Analysis.\n",
    "\n",
    "- Analyzing the data.\n",
    "\n",
    "This will help us gain insights.\n",
    "\n",
    "### Sentiment Analysis.\n",
    "Here we are going to teach the project to understand how customers feel about the products beyond the star ratings. \n",
    "\n",
    "We are using TextBlob to calculate:\n",
    "- Polarity - how positive or negative a review is.\n",
    "\n",
    "- Subjectivity - how opinion based a review is.\n",
    "\n",
    "Then we will add a sentiment label column; positive, negative and neutral."
   ]
  },
  {
   "cell_type": "code",
   "execution_count": null,
   "id": "5f95984f",
   "metadata": {},
   "outputs": [],
   "source": [
    "def get_sentiment(text):\n",
    "    polarity = TextBlob(text).sentiment.polarity\n",
    "    if polarity > 0.1:\n",
    "        return 'positive'\n",
    "    elif polarity < -0.1:\n",
    "        return 'negative'\n",
    "    else:\n",
    "        return 'neutral'\n",
    "\n",
    "reviews['sentiment'] = reviews['review_text'].apply(get_sentiment)\n",
    "\n",
    "reviews['sentiment'].value_counts()"
   ]
  }
 ],
 "metadata": {
  "kernelspec": {
   "display_name": "learn-env",
   "language": "python",
   "name": "python3"
  },
  "language_info": {
   "codemirror_mode": {
    "name": "ipython",
    "version": 3
   },
   "file_extension": ".py",
   "mimetype": "text/x-python",
   "name": "python",
   "nbconvert_exporter": "python",
   "pygments_lexer": "ipython3",
   "version": "3.8.5"
  }
 },
 "nbformat": 4,
 "nbformat_minor": 5
}
